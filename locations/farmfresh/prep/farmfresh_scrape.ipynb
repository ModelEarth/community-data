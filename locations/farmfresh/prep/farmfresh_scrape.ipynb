{
 "cells": [
  {
   "cell_type": "markdown",
   "metadata": {},
   "source": [
    "## Notes\n",
    "Referred API docs: https://www.usdalocalfoodportal.com/fe/datasharing/"
   ]
  },
  {
   "cell_type": "code",
   "execution_count": 1,
   "metadata": {},
   "outputs": [],
   "source": [
    "import json \n",
    "import pandas as pd\n",
    "import requests"
   ]
  },
  {
   "cell_type": "markdown",
   "metadata": {},
   "source": [
    "state*\tState abbreviation\t&state=mi \n",
    "\n",
    "zip\tsearch listings by a zip code\t&zip=48260\n",
    "\n",
    "zip and radius\tsearch by radius of a zipcode\n",
    "\n",
    "The distance unit for radius is miles. The maximum radius is 100 miles;\t&zip=48260&radius=30\n",
    "\n",
    "state and city\tsearch listings by a city name. You must enter state along the city.\t&city=detroit&state=mi\n",
    "\n",
    "x, y, and radius\tsearch by radius of a point (coordinates)\n",
    "\n",
    "The distance unit for radius is miles. The maximum radius is 100 miles;\t&x=-83&y=43&radius=30\n"
   ]
  },
  {
   "cell_type": "code",
   "execution_count": 2,
   "metadata": {},
   "outputs": [],
   "source": [
    "apikey=\"UXLbsdPdCU\""
   ]
  },
  {
   "cell_type": "code",
   "execution_count": 3,
   "metadata": {},
   "outputs": [],
   "source": [
    "market_type_farmermarket = \"farmersmarket\"\n",
    "market_type_onfarmmarket = \"onfarmmarket\""
   ]
  },
  {
   "cell_type": "code",
   "execution_count": 13,
   "metadata": {},
   "outputs": [],
   "source": [
    "from fetch_data import fetch_usda_markets, update_column_names, export_data"
   ]
  },
  {
   "cell_type": "code",
   "execution_count": 14,
   "metadata": {},
   "outputs": [
    {
     "name": "stdout",
     "output_type": "stream",
     "text": [
      "https://www.usdalocalfoodportal.com/api/farmersmarket/ {'apikey': 'UXLbsdPdCU', 'state': 'mi'}\n"
     ]
    }
   ],
   "source": [
    "data_json_farmersmarket = fetch_usda_markets(apikey, \"mi\", market_type_farmermarket)"
   ]
  },
  {
   "cell_type": "code",
   "execution_count": 15,
   "metadata": {},
   "outputs": [],
   "source": [
    "data_df = pd.DataFrame.from_dict(data_json_farmersmarket)\n",
    "\n",
    "attributes = list(data_df.keys())"
   ]
  },
  {
   "cell_type": "code",
   "execution_count": 16,
   "metadata": {},
   "outputs": [
    {
     "data": {
      "text/plain": [
       "['directory_type',\n",
       " 'directory_name',\n",
       " 'updatetime',\n",
       " 'listing_image',\n",
       " 'listing_id',\n",
       " 'listing_name',\n",
       " 'listing_desc',\n",
       " 'brief_desc',\n",
       " 'mydesc',\n",
       " 'contact_name',\n",
       " 'contact_email',\n",
       " 'contact_phone',\n",
       " 'media_website',\n",
       " 'media_facebook',\n",
       " 'media_twitter',\n",
       " 'media_instagram',\n",
       " 'media_pinterest',\n",
       " 'media_youtube',\n",
       " 'media_blog',\n",
       " 'location_address',\n",
       " 'location_state',\n",
       " 'location_city',\n",
       " 'location_street',\n",
       " 'location_zipcode',\n",
       " 'location_x',\n",
       " 'location_y',\n",
       " 'term',\n",
       " 'distance']"
      ]
     },
     "execution_count": 16,
     "metadata": {},
     "output_type": "execute_result"
    }
   ],
   "source": [
    "attributes"
   ]
  },
  {
   "cell_type": "code",
   "execution_count": 17,
   "metadata": {},
   "outputs": [
    {
     "name": "stdout",
     "output_type": "stream",
     "text": [
      "https://www.usdalocalfoodportal.com/api/onfarmmarket/ {'apikey': 'UXLbsdPdCU', 'state': 'mi'}\n"
     ]
    }
   ],
   "source": [
    "data_json_onfarmmarket = fetch_usda_markets(apikey, \"mi\", market_type_onfarmmarket)"
   ]
  },
  {
   "cell_type": "code",
   "execution_count": 18,
   "metadata": {},
   "outputs": [],
   "source": [
    "df_onfarm = pd.DataFrame.from_dict(data_json_onfarmmarket)"
   ]
  },
  {
   "cell_type": "code",
   "execution_count": 19,
   "metadata": {},
   "outputs": [
    {
     "data": {
      "text/html": [
       "<div>\n",
       "<style scoped>\n",
       "    .dataframe tbody tr th:only-of-type {\n",
       "        vertical-align: middle;\n",
       "    }\n",
       "\n",
       "    .dataframe tbody tr th {\n",
       "        vertical-align: top;\n",
       "    }\n",
       "\n",
       "    .dataframe thead th {\n",
       "        text-align: right;\n",
       "    }\n",
       "</style>\n",
       "<table border=\"1\" class=\"dataframe\">\n",
       "  <thead>\n",
       "    <tr style=\"text-align: right;\">\n",
       "      <th></th>\n",
       "      <th>directory_type</th>\n",
       "      <th>directory_name</th>\n",
       "      <th>updatetime</th>\n",
       "      <th>listing_image</th>\n",
       "      <th>listing_id</th>\n",
       "      <th>listing_name</th>\n",
       "      <th>listing_desc</th>\n",
       "      <th>brief_desc</th>\n",
       "      <th>mydesc</th>\n",
       "      <th>contact_name</th>\n",
       "      <th>...</th>\n",
       "      <th>media_blog</th>\n",
       "      <th>location_address</th>\n",
       "      <th>location_state</th>\n",
       "      <th>location_city</th>\n",
       "      <th>location_street</th>\n",
       "      <th>location_zipcode</th>\n",
       "      <th>location_x</th>\n",
       "      <th>location_y</th>\n",
       "      <th>term</th>\n",
       "      <th>distance</th>\n",
       "    </tr>\n",
       "  </thead>\n",
       "  <tbody>\n",
       "    <tr>\n",
       "      <th>0</th>\n",
       "      <td>onfarmmarket</td>\n",
       "      <td>on-farm market</td>\n",
       "      <td>Apr 11th, 2015</td>\n",
       "      <td>default-onfarmmarket-4-3.jpg</td>\n",
       "      <td>701244</td>\n",
       "      <td>Raven's Roost Farm</td>\n",
       "      <td>None</td>\n",
       "      <td>None</td>\n",
       "      <td></td>\n",
       "      <td>DOUGLAS BEDELL</td>\n",
       "      <td>...</td>\n",
       "      <td>None</td>\n",
       "      <td>2398 Vandermark Rd, Bellaire, Michigan 49615</td>\n",
       "      <td>Michigan</td>\n",
       "      <td>Bellaire</td>\n",
       "      <td>2398 Vandermark Rd</td>\n",
       "      <td>49615</td>\n",
       "      <td>-85.241874</td>\n",
       "      <td>44.9987500</td>\n",
       "      <td></td>\n",
       "      <td>1000</td>\n",
       "    </tr>\n",
       "    <tr>\n",
       "      <th>1</th>\n",
       "      <td>onfarmmarket</td>\n",
       "      <td>on-farm market</td>\n",
       "      <td>Apr 1st, 2015</td>\n",
       "      <td>default-onfarmmarket-4-3.jpg</td>\n",
       "      <td>700926</td>\n",
       "      <td>Hickory Corners Homestead</td>\n",
       "      <td>None</td>\n",
       "      <td>None</td>\n",
       "      <td></td>\n",
       "      <td>Layne Hagerman</td>\n",
       "      <td>...</td>\n",
       "      <td>None</td>\n",
       "      <td>12751 E Baseline Rd, Hickory Corners , Michiga...</td>\n",
       "      <td>Michigan</td>\n",
       "      <td>Hickory Corners</td>\n",
       "      <td>12751 E Baseline Rd</td>\n",
       "      <td>49060</td>\n",
       "      <td>-85.382163</td>\n",
       "      <td>42.419918</td>\n",
       "      <td></td>\n",
       "      <td>1000</td>\n",
       "    </tr>\n",
       "  </tbody>\n",
       "</table>\n",
       "<p>2 rows × 28 columns</p>\n",
       "</div>"
      ],
      "text/plain": [
       "  directory_type  directory_name      updatetime  \\\n",
       "0   onfarmmarket  on-farm market  Apr 11th, 2015   \n",
       "1   onfarmmarket  on-farm market   Apr 1st, 2015   \n",
       "\n",
       "                  listing_image listing_id               listing_name  \\\n",
       "0  default-onfarmmarket-4-3.jpg     701244         Raven's Roost Farm   \n",
       "1  default-onfarmmarket-4-3.jpg     700926  Hickory Corners Homestead   \n",
       "\n",
       "  listing_desc brief_desc mydesc    contact_name  ... media_blog  \\\n",
       "0         None       None         DOUGLAS BEDELL  ...       None   \n",
       "1         None       None         Layne Hagerman  ...       None   \n",
       "\n",
       "                                    location_address location_state  \\\n",
       "0       2398 Vandermark Rd, Bellaire, Michigan 49615       Michigan   \n",
       "1  12751 E Baseline Rd, Hickory Corners , Michiga...       Michigan   \n",
       "\n",
       "     location_city      location_street location_zipcode  location_x  \\\n",
       "0         Bellaire   2398 Vandermark Rd            49615  -85.241874   \n",
       "1  Hickory Corners  12751 E Baseline Rd            49060  -85.382163   \n",
       "\n",
       "   location_y term distance  \n",
       "0  44.9987500          1000  \n",
       "1   42.419918          1000  \n",
       "\n",
       "[2 rows x 28 columns]"
      ]
     },
     "execution_count": 19,
     "metadata": {},
     "output_type": "execute_result"
    }
   ],
   "source": [
    "df_onfarm.head(2)"
   ]
  },
  {
   "cell_type": "code",
   "execution_count": 20,
   "metadata": {},
   "outputs": [],
   "source": [
    "old_sample =    {\n",
    "        \"type\": \"market\",\n",
    "        \"name\": \"Marlette Farmers Market\",\n",
    "        \"website\": \"http://www.cityofmarlette.com/2216/Marlette-Farmers-Market\",\n",
    "        \"facebook\": \"http://www.facebook.com/marlettefarmersmarket\",\n",
    "        \"twitter\": \"\",\n",
    "        \"street\": \"3048 Main Street\",\n",
    "        \"city\": \"Marlette\",\n",
    "        \"state\": \"MI\",\n",
    "        \"zip\": \"48453\",\n",
    "        \"longitude\": \"-83.080532\",\n",
    "        \"latitude\": \"43.327346\",\n",
    "        \"tags\": \"organic baked goods cheese crafts flowers eggs herbs vegetables honey jams maple meat plants poultry prepared-foods soap coffee beans fruits pet food\"\n",
    "    }"
   ]
  },
  {
   "cell_type": "code",
   "execution_count": 21,
   "metadata": {},
   "outputs": [],
   "source": [
    "new_sample =   {\n",
    "    \"directory_type\": \"farmersmarket\",\n",
    "    \"directory_name\": \"farmers market\",\n",
    "    \"updatetime\": \"Apr 17th, 2020\",\n",
    "    \"listing_image\": \"default-farmersmarket-4-3.jpg\",\n",
    "    \"listing_id\": \"301083\",\n",
    "    \"listing_name\": \"Marlette Farmers Market\",\n",
    "    \"listing_desc\": \"\",\n",
    "    \"brief_desc\": \"Open: May to October; <br>Available Products: Fresh fruits;Fresh vegetables;Baked goods;Bedding plants;Canned or preserved fruits/vegetables;Coffee/tea;Crafts/woodworking items;Cut flowers;Dairy products.;Dry beans;Eggs;Fresh/dried herbs;Honey;Maple products;Pet food;Poultry/fowl meat and products;Prepared foods;Red/other non-poultry meat and products;Soap/body care products;\",\n",
    "    \"mydesc\": \"\",\n",
    "    \"contact_name\": \"Lisa Kenny\",\n",
    "    \"contact_email\": \"marlettefarmersmarket@gmail.com\",\n",
    "    \"contact_phone\": \"9896357448\",\n",
    "    \"media_website\": \"http://www.cityofmarlette.com/2216/Marlette-Farmers-Market\",\n",
    "    \"media_facebook\": \"http://www.facebook.com/marlettefarmersmarket\",\n",
    "    \"media_twitter\": \"\",\n",
    "    \"media_instagram\": \"\",\n",
    "    \"media_pinterest\": \"\",\n",
    "    \"media_youtube\": \"\",\n",
    "    \"media_blog\": \"\",\n",
    "    \"location_address\": \"3048 Main Street, Marlette, Michigan 48453\",\n",
    "    \"location_state\": \"Michigan\",\n",
    "    \"location_city\": \"Marlette\",\n",
    "    \"location_street\": \"3048 Main Street\",\n",
    "    \"location_zipcode\": \"48453\",\n",
    "    \"location_x\": \"-83.080532\",\n",
    "    \"location_y\": \"43.327346\",\n",
    "    \"term\": \"\",\n",
    "    \"distance\": \"1000\"\n",
    "  }"
   ]
  },
  {
   "cell_type": "code",
   "execution_count": 24,
   "metadata": {},
   "outputs": [],
   "source": [
    "new_df = update_column_names(df_onfarm)"
   ]
  },
  {
   "cell_type": "code",
   "execution_count": 25,
   "metadata": {},
   "outputs": [
    {
     "data": {
      "text/html": [
       "<div>\n",
       "<style scoped>\n",
       "    .dataframe tbody tr th:only-of-type {\n",
       "        vertical-align: middle;\n",
       "    }\n",
       "\n",
       "    .dataframe tbody tr th {\n",
       "        vertical-align: top;\n",
       "    }\n",
       "\n",
       "    .dataframe thead th {\n",
       "        text-align: right;\n",
       "    }\n",
       "</style>\n",
       "<table border=\"1\" class=\"dataframe\">\n",
       "  <thead>\n",
       "    <tr style=\"text-align: right;\">\n",
       "      <th></th>\n",
       "      <th>directory_type</th>\n",
       "      <th>directory_name</th>\n",
       "      <th>updatetime</th>\n",
       "      <th>listing_image</th>\n",
       "      <th>listing_id</th>\n",
       "      <th>listing_name</th>\n",
       "      <th>listing_desc</th>\n",
       "      <th>brief_desc</th>\n",
       "      <th>mydesc</th>\n",
       "      <th>contact_name</th>\n",
       "      <th>...</th>\n",
       "      <th>media_blog</th>\n",
       "      <th>location_address</th>\n",
       "      <th>location_state</th>\n",
       "      <th>location_city</th>\n",
       "      <th>location_street</th>\n",
       "      <th>location_zipcode</th>\n",
       "      <th>location_x</th>\n",
       "      <th>location_y</th>\n",
       "      <th>term</th>\n",
       "      <th>distance</th>\n",
       "    </tr>\n",
       "  </thead>\n",
       "  <tbody>\n",
       "    <tr>\n",
       "      <th>0</th>\n",
       "      <td>onfarmmarket</td>\n",
       "      <td>on-farm market</td>\n",
       "      <td>Apr 11th, 2015</td>\n",
       "      <td>default-onfarmmarket-4-3.jpg</td>\n",
       "      <td>701244</td>\n",
       "      <td>Raven's Roost Farm</td>\n",
       "      <td>None</td>\n",
       "      <td>None</td>\n",
       "      <td></td>\n",
       "      <td>DOUGLAS BEDELL</td>\n",
       "      <td>...</td>\n",
       "      <td>None</td>\n",
       "      <td>2398 Vandermark Rd, Bellaire, Michigan 49615</td>\n",
       "      <td>Michigan</td>\n",
       "      <td>Bellaire</td>\n",
       "      <td>2398 Vandermark Rd</td>\n",
       "      <td>49615</td>\n",
       "      <td>-85.241874</td>\n",
       "      <td>44.9987500</td>\n",
       "      <td></td>\n",
       "      <td>1000</td>\n",
       "    </tr>\n",
       "  </tbody>\n",
       "</table>\n",
       "<p>1 rows × 28 columns</p>\n",
       "</div>"
      ],
      "text/plain": [
       "  directory_type  directory_name      updatetime  \\\n",
       "0   onfarmmarket  on-farm market  Apr 11th, 2015   \n",
       "\n",
       "                  listing_image listing_id        listing_name listing_desc  \\\n",
       "0  default-onfarmmarket-4-3.jpg     701244  Raven's Roost Farm         None   \n",
       "\n",
       "  brief_desc mydesc    contact_name  ... media_blog  \\\n",
       "0       None         DOUGLAS BEDELL  ...       None   \n",
       "\n",
       "                               location_address location_state location_city  \\\n",
       "0  2398 Vandermark Rd, Bellaire, Michigan 49615       Michigan      Bellaire   \n",
       "\n",
       "      location_street location_zipcode  location_x  location_y term distance  \n",
       "0  2398 Vandermark Rd            49615  -85.241874  44.9987500          1000  \n",
       "\n",
       "[1 rows x 28 columns]"
      ]
     },
     "execution_count": 25,
     "metadata": {},
     "output_type": "execute_result"
    }
   ],
   "source": [
    "df_onfarm.head(1)"
   ]
  },
  {
   "cell_type": "code",
   "execution_count": null,
   "metadata": {},
   "outputs": [],
   "source": []
  }
 ],
 "metadata": {
  "kernelspec": {
   "display_name": "me_env",
   "language": "python",
   "name": "python3"
  },
  "language_info": {
   "codemirror_mode": {
    "name": "ipython",
    "version": 3
   },
   "file_extension": ".py",
   "mimetype": "text/x-python",
   "name": "python",
   "nbconvert_exporter": "python",
   "pygments_lexer": "ipython3",
   "version": "3.10.12"
  }
 },
 "nbformat": 4,
 "nbformat_minor": 2
}
